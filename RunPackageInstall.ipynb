{
 "cells": [
  {
   "cell_type": "code",
   "execution_count": 1,
   "id": "a8cc10e1-0ac3-4493-9ebc-54217a93616e",
   "metadata": {},
   "outputs": [
    {
     "name": "stdout",
     "output_type": "stream",
     "text": [
      "Collecting PeakUtils\n",
      "  Downloading PeakUtils-1.3.5-py3-none-any.whl.metadata (1.6 kB)\n",
      "Requirement already satisfied: numpy in c:\\users\\aarun\\anaconda3\\envs\\imu_sleep_env\\lib\\site-packages (from PeakUtils) (1.26.4)\n",
      "Requirement already satisfied: scipy in c:\\users\\aarun\\anaconda3\\envs\\imu_sleep_env\\lib\\site-packages (from PeakUtils) (1.13.1)\n",
      "Downloading PeakUtils-1.3.5-py3-none-any.whl (7.7 kB)\n",
      "Installing collected packages: PeakUtils\n",
      "Successfully installed PeakUtils-1.3.5\n"
     ]
    }
   ],
   "source": [
    "!pip install PeakUtils"
   ]
  },
  {
   "cell_type": "code",
   "execution_count": 2,
   "id": "de823653-8ff5-45b0-8429-2782bdd3ad45",
   "metadata": {},
   "outputs": [
    {
     "name": "stdout",
     "output_type": "stream",
     "text": [
      "Collecting msgpack\n",
      "  Downloading msgpack-1.0.8-cp312-cp312-win_amd64.whl.metadata (9.4 kB)\n",
      "Downloading msgpack-1.0.8-cp312-cp312-win_amd64.whl (75 kB)\n",
      "   ---------------------------------------- 0.0/75.3 kB ? eta -:--:--\n",
      "   --------------------- ------------------ 41.0/75.3 kB 960.0 kB/s eta 0:00:01\n",
      "   ---------------------------------------- 75.3/75.3 kB 834.7 kB/s eta 0:00:00\n",
      "Installing collected packages: msgpack\n",
      "Successfully installed msgpack-1.0.8\n"
     ]
    }
   ],
   "source": [
    "!pip install msgpack"
   ]
  },
  {
   "cell_type": "code",
   "execution_count": 3,
   "id": "ad4dc3aa-43d3-45d2-908d-706c16171773",
   "metadata": {},
   "outputs": [
    {
     "name": "stdout",
     "output_type": "stream",
     "text": [
      "Requirement already satisfied: pip in c:\\users\\aarun\\anaconda3\\envs\\imu_sleep_env\\lib\\site-packages (24.0)\n",
      "Collecting pip\n",
      "  Downloading pip-24.1.2-py3-none-any.whl.metadata (3.6 kB)\n",
      "Downloading pip-24.1.2-py3-none-any.whl (1.8 MB)\n",
      "   ---------------------------------------- 0.0/1.8 MB ? eta -:--:--\n",
      "    --------------------------------------- 0.0/1.8 MB 1.3 MB/s eta 0:00:02\n",
      "   - -------------------------------------- 0.1/1.8 MB 991.0 kB/s eta 0:00:02\n",
      "   ----- ---------------------------------- 0.2/1.8 MB 2.1 MB/s eta 0:00:01\n",
      "   ---------- ----------------------------- 0.5/1.8 MB 2.9 MB/s eta 0:00:01\n",
      "   -------------- ------------------------- 0.7/1.8 MB 3.2 MB/s eta 0:00:01\n",
      "   --------------------- ------------------ 1.0/1.8 MB 4.1 MB/s eta 0:00:01\n",
      "   ------------------------ --------------- 1.1/1.8 MB 3.9 MB/s eta 0:00:01\n",
      "   ----------------------------- ---------- 1.4/1.8 MB 3.9 MB/s eta 0:00:01\n",
      "   --------------------------------- ------ 1.5/1.8 MB 4.0 MB/s eta 0:00:01\n",
      "   ---------------------------------- ----- 1.6/1.8 MB 3.6 MB/s eta 0:00:01\n",
      "   -------------------------------------- - 1.8/1.8 MB 3.7 MB/s eta 0:00:01\n",
      "   ---------------------------------------- 1.8/1.8 MB 3.6 MB/s eta 0:00:00\n"
     ]
    },
    {
     "name": "stderr",
     "output_type": "stream",
     "text": [
      "ERROR: To modify pip, please run the following command:\n",
      "C:\\Users\\aarun\\anaconda3\\envs\\imu_sleep_env\\python.exe -m pip install --upgrade pip\n"
     ]
    }
   ],
   "source": [
    "# !pip install --upgrade pip"
   ]
  },
  {
   "cell_type": "code",
   "execution_count": 4,
   "id": "56ab217b-6170-4aab-96e6-15f124f25e76",
   "metadata": {},
   "outputs": [
    {
     "name": "stdout",
     "output_type": "stream",
     "text": [
      "Collecting tqdm\n",
      "  Downloading tqdm-4.66.4-py3-none-any.whl.metadata (57 kB)\n",
      "     ---------------------------------------- 0.0/57.6 kB ? eta -:--:--\n",
      "     --------------------------- ---------- 41.0/57.6 kB 991.0 kB/s eta 0:00:01\n",
      "     -------------------------------------- 57.6/57.6 kB 763.1 kB/s eta 0:00:00\n",
      "Requirement already satisfied: colorama in c:\\users\\aarun\\anaconda3\\envs\\imu_sleep_env\\lib\\site-packages (from tqdm) (0.4.6)\n",
      "Downloading tqdm-4.66.4-py3-none-any.whl (78 kB)\n",
      "   ---------------------------------------- 0.0/78.3 kB ? eta -:--:--\n",
      "   -------------------- ------------------- 41.0/78.3 kB 960.0 kB/s eta 0:00:01\n",
      "   ---------------------------------------- 78.3/78.3 kB 872.2 kB/s eta 0:00:00\n",
      "Installing collected packages: tqdm\n",
      "Successfully installed tqdm-4.66.4\n"
     ]
    }
   ],
   "source": [
    "!pip3 install tqdm"
   ]
  },
  {
   "cell_type": "code",
   "execution_count": 5,
   "id": "bb6da22e-87db-4522-a4be-860716c07447",
   "metadata": {},
   "outputs": [
    {
     "name": "stdout",
     "output_type": "stream",
     "text": [
      "Collecting imufusion\n",
      "  Downloading imufusion-1.2.5-cp312-cp312-win_amd64.whl.metadata (536 bytes)\n",
      "Downloading imufusion-1.2.5-cp312-cp312-win_amd64.whl (17 kB)\n",
      "Installing collected packages: imufusion\n",
      "Successfully installed imufusion-1.2.5\n"
     ]
    }
   ],
   "source": [
    "!pip install imufusion"
   ]
  },
  {
   "cell_type": "code",
   "execution_count": 1,
   "id": "6e38780a-64f0-4911-955c-3fe556c60bca",
   "metadata": {},
   "outputs": [
    {
     "name": "stdout",
     "output_type": "stream",
     "text": [
      "Requirement already satisfied: pandas in c:\\users\\gilab\\miniconda3\\envs\\newenvaaruni\\lib\\site-packages (2.2.2)\n",
      "Requirement already satisfied: numpy>=1.26.0 in c:\\users\\gilab\\miniconda3\\envs\\newenvaaruni\\lib\\site-packages (from pandas) (1.26.4)\n",
      "Requirement already satisfied: python-dateutil>=2.8.2 in c:\\users\\gilab\\miniconda3\\envs\\newenvaaruni\\lib\\site-packages (from pandas) (2.9.0.post0)\n",
      "Requirement already satisfied: pytz>=2020.1 in c:\\users\\gilab\\miniconda3\\envs\\newenvaaruni\\lib\\site-packages (from pandas) (2024.1)\n",
      "Requirement already satisfied: tzdata>=2022.7 in c:\\users\\gilab\\miniconda3\\envs\\newenvaaruni\\lib\\site-packages (from pandas) (2023.3)\n",
      "Requirement already satisfied: six>=1.5 in c:\\users\\gilab\\miniconda3\\envs\\newenvaaruni\\lib\\site-packages (from python-dateutil>=2.8.2->pandas) (1.16.0)\n"
     ]
    }
   ],
   "source": []
  }
 ],
 "metadata": {
  "kernelspec": {
   "display_name": "Python 3 (ipykernel)",
   "language": "python",
   "name": "python3"
  },
  "language_info": {
   "codemirror_mode": {
    "name": "ipython",
    "version": 3
   },
   "file_extension": ".py",
   "mimetype": "text/x-python",
   "name": "python",
   "nbconvert_exporter": "python",
   "pygments_lexer": "ipython3",
   "version": "3.12.7"
  }
 },
 "nbformat": 4,
 "nbformat_minor": 5
}
